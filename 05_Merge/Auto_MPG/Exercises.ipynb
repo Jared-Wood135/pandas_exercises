{
 "cells": [
  {
   "cell_type": "markdown",
   "metadata": {},
   "source": [
    "# MPG Cars"
   ]
  },
  {
   "cell_type": "markdown",
   "metadata": {},
   "source": [
    "### Introduction:\n",
    "\n",
    "The following exercise utilizes data from [UC Irvine Machine Learning Repository](https://archive.ics.uci.edu/ml/datasets/Auto+MPG)\n",
    "\n",
    "### Step 1. Import the necessary libraries"
   ]
  },
  {
   "cell_type": "code",
   "execution_count": 1,
   "metadata": {},
   "outputs": [],
   "source": [
    "import pandas as pd\n",
    "import numpy as np"
   ]
  },
  {
   "cell_type": "markdown",
   "metadata": {},
   "source": [
    "### Step 2. Import the first dataset [cars1](https://raw.githubusercontent.com/guipsamora/pandas_exercises/master/05_Merge/Auto_MPG/cars1.csv) and [cars2](https://raw.githubusercontent.com/guipsamora/pandas_exercises/master/05_Merge/Auto_MPG/cars2.csv).  "
   ]
  },
  {
   "cell_type": "code",
   "execution_count": 2,
   "metadata": {},
   "outputs": [],
   "source": [
    "url1 = 'https://raw.githubusercontent.com/guipsamora/pandas_exercises/master/05_Merge/Auto_MPG/cars1.csv'\n",
    "url2 = 'https://raw.githubusercontent.com/guipsamora/pandas_exercises/master/05_Merge/Auto_MPG/cars2.csv'"
   ]
  },
  {
   "cell_type": "markdown",
   "metadata": {},
   "source": [
    "   ### Step 3. Assign each to a variable called cars1 and cars2"
   ]
  },
  {
   "cell_type": "code",
   "execution_count": 4,
   "metadata": {},
   "outputs": [],
   "source": [
    "cars1 = pd.read_csv(url1, sep = ',')\n",
    "cars2 = pd.read_csv(url2, sep = ',')"
   ]
  },
  {
   "cell_type": "code",
   "execution_count": 5,
   "metadata": {},
   "outputs": [
    {
     "data": {
      "text/html": [
       "<div>\n",
       "<style scoped>\n",
       "    .dataframe tbody tr th:only-of-type {\n",
       "        vertical-align: middle;\n",
       "    }\n",
       "\n",
       "    .dataframe tbody tr th {\n",
       "        vertical-align: top;\n",
       "    }\n",
       "\n",
       "    .dataframe thead th {\n",
       "        text-align: right;\n",
       "    }\n",
       "</style>\n",
       "<table border=\"1\" class=\"dataframe\">\n",
       "  <thead>\n",
       "    <tr style=\"text-align: right;\">\n",
       "      <th></th>\n",
       "      <th>mpg</th>\n",
       "      <th>cylinders</th>\n",
       "      <th>displacement</th>\n",
       "      <th>horsepower</th>\n",
       "      <th>weight</th>\n",
       "      <th>acceleration</th>\n",
       "      <th>model</th>\n",
       "      <th>origin</th>\n",
       "      <th>car</th>\n",
       "      <th>Unnamed: 9</th>\n",
       "      <th>Unnamed: 10</th>\n",
       "      <th>Unnamed: 11</th>\n",
       "      <th>Unnamed: 12</th>\n",
       "      <th>Unnamed: 13</th>\n",
       "    </tr>\n",
       "  </thead>\n",
       "  <tbody>\n",
       "    <tr>\n",
       "      <th>105</th>\n",
       "      <td>13.0</td>\n",
       "      <td>8</td>\n",
       "      <td>360</td>\n",
       "      <td>170</td>\n",
       "      <td>4654</td>\n",
       "      <td>13.0</td>\n",
       "      <td>73</td>\n",
       "      <td>1</td>\n",
       "      <td>plymouth custom suburb</td>\n",
       "      <td>NaN</td>\n",
       "      <td>NaN</td>\n",
       "      <td>NaN</td>\n",
       "      <td>NaN</td>\n",
       "      <td>NaN</td>\n",
       "    </tr>\n",
       "  </tbody>\n",
       "</table>\n",
       "</div>"
      ],
      "text/plain": [
       "      mpg  cylinders  displacement horsepower  weight  acceleration  model  \\\n",
       "105  13.0          8           360        170    4654          13.0     73   \n",
       "\n",
       "     origin                     car  Unnamed: 9  Unnamed: 10  Unnamed: 11  \\\n",
       "105       1  plymouth custom suburb         NaN          NaN          NaN   \n",
       "\n",
       "     Unnamed: 12  Unnamed: 13  \n",
       "105          NaN          NaN  "
      ]
     },
     "execution_count": 5,
     "metadata": {},
     "output_type": "execute_result"
    }
   ],
   "source": [
    "cars1.sample()"
   ]
  },
  {
   "cell_type": "code",
   "execution_count": 6,
   "metadata": {},
   "outputs": [
    {
     "data": {
      "text/html": [
       "<div>\n",
       "<style scoped>\n",
       "    .dataframe tbody tr th:only-of-type {\n",
       "        vertical-align: middle;\n",
       "    }\n",
       "\n",
       "    .dataframe tbody tr th {\n",
       "        vertical-align: top;\n",
       "    }\n",
       "\n",
       "    .dataframe thead th {\n",
       "        text-align: right;\n",
       "    }\n",
       "</style>\n",
       "<table border=\"1\" class=\"dataframe\">\n",
       "  <thead>\n",
       "    <tr style=\"text-align: right;\">\n",
       "      <th></th>\n",
       "      <th>mpg</th>\n",
       "      <th>cylinders</th>\n",
       "      <th>displacement</th>\n",
       "      <th>horsepower</th>\n",
       "      <th>weight</th>\n",
       "      <th>acceleration</th>\n",
       "      <th>model</th>\n",
       "      <th>origin</th>\n",
       "      <th>car</th>\n",
       "    </tr>\n",
       "  </thead>\n",
       "  <tbody>\n",
       "    <tr>\n",
       "      <th>4</th>\n",
       "      <td>17.5</td>\n",
       "      <td>6</td>\n",
       "      <td>258</td>\n",
       "      <td>95</td>\n",
       "      <td>3193</td>\n",
       "      <td>17.8</td>\n",
       "      <td>76</td>\n",
       "      <td>1</td>\n",
       "      <td>amc pacer d/l</td>\n",
       "    </tr>\n",
       "  </tbody>\n",
       "</table>\n",
       "</div>"
      ],
      "text/plain": [
       "    mpg  cylinders  displacement horsepower  weight  acceleration  model  \\\n",
       "4  17.5          6           258         95    3193          17.8     76   \n",
       "\n",
       "   origin            car  \n",
       "4       1  amc pacer d/l  "
      ]
     },
     "execution_count": 6,
     "metadata": {},
     "output_type": "execute_result"
    }
   ],
   "source": [
    "cars2.sample()"
   ]
  },
  {
   "cell_type": "markdown",
   "metadata": {},
   "source": [
    "### Step 4. Oops, it seems our first dataset has some unnamed blank columns, fix cars1"
   ]
  },
  {
   "cell_type": "code",
   "execution_count": 9,
   "metadata": {},
   "outputs": [
    {
     "data": {
      "text/html": [
       "<div>\n",
       "<style scoped>\n",
       "    .dataframe tbody tr th:only-of-type {\n",
       "        vertical-align: middle;\n",
       "    }\n",
       "\n",
       "    .dataframe tbody tr th {\n",
       "        vertical-align: top;\n",
       "    }\n",
       "\n",
       "    .dataframe thead th {\n",
       "        text-align: right;\n",
       "    }\n",
       "</style>\n",
       "<table border=\"1\" class=\"dataframe\">\n",
       "  <thead>\n",
       "    <tr style=\"text-align: right;\">\n",
       "      <th></th>\n",
       "      <th>mpg</th>\n",
       "      <th>cylinders</th>\n",
       "      <th>displacement</th>\n",
       "      <th>horsepower</th>\n",
       "      <th>weight</th>\n",
       "      <th>acceleration</th>\n",
       "      <th>model</th>\n",
       "      <th>origin</th>\n",
       "      <th>car</th>\n",
       "    </tr>\n",
       "  </thead>\n",
       "  <tbody>\n",
       "    <tr>\n",
       "      <th>125</th>\n",
       "      <td>20.0</td>\n",
       "      <td>6</td>\n",
       "      <td>198</td>\n",
       "      <td>95</td>\n",
       "      <td>3102</td>\n",
       "      <td>16.5</td>\n",
       "      <td>74</td>\n",
       "      <td>1</td>\n",
       "      <td>plymouth duster</td>\n",
       "    </tr>\n",
       "  </tbody>\n",
       "</table>\n",
       "</div>"
      ],
      "text/plain": [
       "      mpg  cylinders  displacement horsepower  weight  acceleration  model  \\\n",
       "125  20.0          6           198         95    3102          16.5     74   \n",
       "\n",
       "     origin              car  \n",
       "125       1  plymouth duster  "
      ]
     },
     "execution_count": 9,
     "metadata": {},
     "output_type": "execute_result"
    }
   ],
   "source": [
    "cars1 = cars1.loc[:, 'mpg':'car']\n",
    "cars1.sample()"
   ]
  },
  {
   "cell_type": "markdown",
   "metadata": {},
   "source": [
    "### Step 5. What is the number of observations in each dataset?"
   ]
  },
  {
   "cell_type": "code",
   "execution_count": 11,
   "metadata": {},
   "outputs": [
    {
     "name": "stdout",
     "output_type": "stream",
     "text": [
      "(198, 9)\n",
      "(200, 9)\n"
     ]
    }
   ],
   "source": [
    "print(cars1.shape)\n",
    "print(cars2.shape)"
   ]
  },
  {
   "cell_type": "markdown",
   "metadata": {},
   "source": [
    "### Step 6. Join cars1 and cars2 into a single DataFrame called cars"
   ]
  },
  {
   "cell_type": "code",
   "execution_count": 12,
   "metadata": {},
   "outputs": [
    {
     "name": "stderr",
     "output_type": "stream",
     "text": [
      "/var/folders/6x/kctcvd8x6l18t57t92kmqy6w0000gn/T/ipykernel_91191/1359429257.py:1: FutureWarning: The frame.append method is deprecated and will be removed from pandas in a future version. Use pandas.concat instead.\n",
      "  cars = cars1.append(cars2)\n"
     ]
    },
    {
     "data": {
      "text/html": [
       "<div>\n",
       "<style scoped>\n",
       "    .dataframe tbody tr th:only-of-type {\n",
       "        vertical-align: middle;\n",
       "    }\n",
       "\n",
       "    .dataframe tbody tr th {\n",
       "        vertical-align: top;\n",
       "    }\n",
       "\n",
       "    .dataframe thead th {\n",
       "        text-align: right;\n",
       "    }\n",
       "</style>\n",
       "<table border=\"1\" class=\"dataframe\">\n",
       "  <thead>\n",
       "    <tr style=\"text-align: right;\">\n",
       "      <th></th>\n",
       "      <th>mpg</th>\n",
       "      <th>cylinders</th>\n",
       "      <th>displacement</th>\n",
       "      <th>horsepower</th>\n",
       "      <th>weight</th>\n",
       "      <th>acceleration</th>\n",
       "      <th>model</th>\n",
       "      <th>origin</th>\n",
       "      <th>car</th>\n",
       "    </tr>\n",
       "  </thead>\n",
       "  <tbody>\n",
       "    <tr>\n",
       "      <th>93</th>\n",
       "      <td>19.2</td>\n",
       "      <td>8</td>\n",
       "      <td>267</td>\n",
       "      <td>125</td>\n",
       "      <td>3605</td>\n",
       "      <td>15.0</td>\n",
       "      <td>79</td>\n",
       "      <td>1</td>\n",
       "      <td>chevrolet malibu classic (sw)</td>\n",
       "    </tr>\n",
       "  </tbody>\n",
       "</table>\n",
       "</div>"
      ],
      "text/plain": [
       "     mpg  cylinders  displacement horsepower  weight  acceleration  model  \\\n",
       "93  19.2          8           267        125    3605          15.0     79   \n",
       "\n",
       "    origin                            car  \n",
       "93       1  chevrolet malibu classic (sw)  "
      ]
     },
     "execution_count": 12,
     "metadata": {},
     "output_type": "execute_result"
    }
   ],
   "source": [
    "cars = cars1.append(cars2)\n",
    "cars.sample()"
   ]
  },
  {
   "cell_type": "markdown",
   "metadata": {},
   "source": [
    "### Step 7. Oops, there is a column missing, called owners. Create a random number Series from 15,000 to 73,000."
   ]
  },
  {
   "cell_type": "code",
   "execution_count": 14,
   "metadata": {},
   "outputs": [
    {
     "data": {
      "text/plain": [
       "array([15327, 39049, 63954, 16691, 67116, 50603, 15758, 47874, 32120,\n",
       "       16770, 34080, 20162, 32902, 49602, 72201, 68191, 17532, 42764,\n",
       "       19443, 19515, 16425, 37145, 33178, 54963, 32680, 65850, 55952,\n",
       "       62464, 28908, 28021, 26504, 29688, 16426, 35115, 56712, 21778,\n",
       "       26986, 72919, 31120, 44316, 64514, 28527, 71334, 43872, 52378,\n",
       "       45696, 49895, 38800, 20929, 22760, 26329, 39888, 49388, 18549,\n",
       "       61291, 29401, 66987, 64214, 71954, 23616, 68371, 50460, 55872,\n",
       "       44058, 31994, 51490, 55379, 68125, 67869, 51175, 72565, 26897,\n",
       "       52925, 46511, 68121, 64121, 57269, 16931, 42057, 60985, 50203,\n",
       "       28047, 51568, 52058, 15496, 45765, 56310, 15750, 64935, 31271,\n",
       "       23377, 49187, 60906, 53983, 46867, 25878, 67323, 52227, 72975,\n",
       "       45195, 62380, 28029, 23750, 58104, 69707, 33315, 49076, 23348,\n",
       "       37654, 31596, 71509, 42869, 55493, 33065, 21271, 39480, 15653,\n",
       "       16621, 71270, 54389, 16323, 64489, 46092, 50997, 36504, 65642,\n",
       "       15781, 62382, 71197, 19663, 50156, 15274, 29568, 32069, 38114,\n",
       "       27747, 19416, 72629, 67064, 19197, 32933, 60732, 71379, 54324,\n",
       "       43436, 20718, 63442, 28969, 32971, 46763, 46714, 46773, 45286,\n",
       "       25091, 33340, 35327, 60559, 54078, 59232, 48568, 65355, 26954,\n",
       "       64240, 41468, 31395, 27028, 17160, 39199, 53138, 34321, 62445,\n",
       "       30744, 63838, 66068, 49484, 58327, 27339, 39822, 34524, 43739,\n",
       "       28554, 53502, 47372, 15489, 34173, 49207, 49576, 34958, 32638,\n",
       "       27865, 36641, 17559, 44414, 54901, 71147, 60931, 70833, 25336,\n",
       "       70179, 49753, 55122, 20067, 39478, 69399, 49078, 57073, 45584,\n",
       "       43348, 41764, 64203, 26137, 38092, 63403, 23324, 41901, 39447,\n",
       "       62482, 44372, 43075, 15194, 46159, 27011, 27212, 59874, 48936,\n",
       "       34579, 20085, 65333, 29000, 55456, 27833, 56816, 33730, 53644,\n",
       "       37992, 67455, 57235, 47515, 49930, 17241, 52661, 46039, 50276,\n",
       "       16601, 25847, 33715, 16611, 60014, 32622, 16620, 39971, 69384,\n",
       "       70015, 71871, 18352, 51460, 54750, 25624, 35185, 34079, 43617,\n",
       "       66420, 33410, 32332, 63670, 20941, 40843, 56492, 25977, 54381,\n",
       "       52857, 32938, 60399, 55961, 34199, 19981, 38218, 31469, 68787,\n",
       "       71010, 58485, 16604, 37495, 59712, 46917, 27664, 70679, 70210,\n",
       "       22721, 20657, 40979, 49166, 39063, 52631, 28311, 71786, 22968,\n",
       "       25061, 20527, 45866, 31882, 20719, 17547, 54668, 46894, 45803,\n",
       "       39667, 58719, 63637, 35203, 58743, 25071, 42600, 61444, 31013,\n",
       "       26171, 39603, 47027, 57868, 72820, 63007, 70495, 57239, 47857,\n",
       "       64858, 28204, 57393, 33501, 39866, 18123, 60062, 55608, 53372,\n",
       "       32448, 71709, 50937, 42862, 31001, 19605, 18330, 55737, 49550,\n",
       "       57720, 47730, 70574, 71925, 51310, 39205, 19096, 18863, 28740,\n",
       "       23226, 60548, 43321, 15053, 18816, 42459, 67167, 64102, 27270,\n",
       "       69660, 71410, 37924, 47556, 46784, 55035, 70922, 35042, 20778,\n",
       "       29330, 27013, 37470, 30542, 49936, 58643, 58665, 44335, 70584,\n",
       "       33102, 55028, 22817, 52134, 61236, 16207, 43917, 49703, 31244,\n",
       "       42913, 59889, 16320, 46443, 16987, 23709, 29816, 36416, 23051,\n",
       "       29734, 21478])"
      ]
     },
     "execution_count": 14,
     "metadata": {},
     "output_type": "execute_result"
    }
   ],
   "source": [
    "owners = np.random.randint(15000, high=73001, size=398, dtype='l')\n",
    "owners"
   ]
  },
  {
   "cell_type": "markdown",
   "metadata": {},
   "source": [
    "### Step 8. Add the column owners to cars"
   ]
  },
  {
   "cell_type": "code",
   "execution_count": 15,
   "metadata": {},
   "outputs": [
    {
     "data": {
      "text/html": [
       "<div>\n",
       "<style scoped>\n",
       "    .dataframe tbody tr th:only-of-type {\n",
       "        vertical-align: middle;\n",
       "    }\n",
       "\n",
       "    .dataframe tbody tr th {\n",
       "        vertical-align: top;\n",
       "    }\n",
       "\n",
       "    .dataframe thead th {\n",
       "        text-align: right;\n",
       "    }\n",
       "</style>\n",
       "<table border=\"1\" class=\"dataframe\">\n",
       "  <thead>\n",
       "    <tr style=\"text-align: right;\">\n",
       "      <th></th>\n",
       "      <th>mpg</th>\n",
       "      <th>cylinders</th>\n",
       "      <th>displacement</th>\n",
       "      <th>horsepower</th>\n",
       "      <th>weight</th>\n",
       "      <th>acceleration</th>\n",
       "      <th>model</th>\n",
       "      <th>origin</th>\n",
       "      <th>car</th>\n",
       "      <th>owners</th>\n",
       "    </tr>\n",
       "  </thead>\n",
       "  <tbody>\n",
       "    <tr>\n",
       "      <th>28</th>\n",
       "      <td>20.5</td>\n",
       "      <td>6</td>\n",
       "      <td>231</td>\n",
       "      <td>105</td>\n",
       "      <td>3425</td>\n",
       "      <td>16.9</td>\n",
       "      <td>77</td>\n",
       "      <td>1</td>\n",
       "      <td>buick skylark</td>\n",
       "      <td>20085</td>\n",
       "    </tr>\n",
       "  </tbody>\n",
       "</table>\n",
       "</div>"
      ],
      "text/plain": [
       "     mpg  cylinders  displacement horsepower  weight  acceleration  model  \\\n",
       "28  20.5          6           231        105    3425          16.9     77   \n",
       "\n",
       "    origin            car  owners  \n",
       "28       1  buick skylark   20085  "
      ]
     },
     "execution_count": 15,
     "metadata": {},
     "output_type": "execute_result"
    }
   ],
   "source": [
    "cars['owners'] = owners\n",
    "cars.sample()"
   ]
  }
 ],
 "metadata": {
  "anaconda-cloud": {},
  "kernelspec": {
   "display_name": "Python 3 (ipykernel)",
   "language": "python",
   "name": "python3"
  },
  "language_info": {
   "codemirror_mode": {
    "name": "ipython",
    "version": 3
   },
   "file_extension": ".py",
   "mimetype": "text/x-python",
   "name": "python",
   "nbconvert_exporter": "python",
   "pygments_lexer": "ipython3",
   "version": "3.9.13"
  }
 },
 "nbformat": 4,
 "nbformat_minor": 1
}
